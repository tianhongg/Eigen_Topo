{
 "cells": [
  {
   "cell_type": "code",
   "execution_count": 1,
   "id": "sophisticated-receiver",
   "metadata": {},
   "outputs": [],
   "source": [
    "#########################\n",
    "# 2022-01 by Tianhong\n",
    "# SPP in Cylindrical Geometry \n",
    "\n",
    "import time\n",
    "import math \n",
    "import numpy as np\n",
    "from Matrix import Topo\n",
    "import matplotlib.pyplot as plt\n",
    "from tqdm import tqdm\n",
    "%matplotlib inline\n",
    "pi = math.pi"
   ]
  },
  {
   "cell_type": "code",
   "execution_count": 2,
   "id": "acoustic-sessions",
   "metadata": {},
   "outputs": [],
   "source": [
    "L  = 10*2*pi;\n",
    "N = 200;\n",
    "# \n",
    "r0 = 5*2*pi;\n",
    "l  = 1*2*pi;\n",
    "Bz = 1.0;\n",
    "By = Bz*0.2;\n",
    "N = math.ceil(N/2)*2;\n",
    "dr = L/N;\n",
    "N = N+1;\n",
    "r00 = dr*0.5;  # don't change\n",
    "MyTopo = Topo(N,dr,r00,Bz,By,r0,l)"
   ]
  },
  {
   "cell_type": "code",
   "execution_count": 3,
   "id": "palestinian-excuse",
   "metadata": {},
   "outputs": [],
   "source": [
    "def Scan_m_Save(N_m,kz):\n",
    "    All_Eig = np.array([])\n",
    "    All_m   = np.array([])\n",
    "    for i in tqdm(range(N_m+1)):\n",
    "        m = i-N_m/2\n",
    "        eig = MyTopo.EigTopo(m,kz)\n",
    "        All_Eig=np.append(All_Eig,eig)\n",
    "        All_m  =np.append(All_m,np.ones(eig.shape[0])*m)\n",
    "        \n",
    "    # make the style\n",
    "    MarkerSize = 56\n",
    "    color = '#2a9d8f'\n",
    "    alp = 0.7\n",
    "\n",
    "    # plot\n",
    "    fig, ax = plt.subplots()\n",
    "    ax.scatter(All_m, All_Eig,MarkerSize,color,alpha=alp)\n",
    "    ax.set(xlim=(-N_m/2,N_m/2),ylim=(0,1.2), xticks=np.arange(-N_m/2,N_m/2+1,5), yticks=np.arange(0,1.2,0.2))\n",
    "    for label in (ax.get_xticklabels() + ax.get_yticklabels()):\n",
    "        label.set_fontsize(24)\n",
    "    ax.set_xlabel('$m$', fontsize=24)\n",
    "    ax.set_ylabel('$\\omega$', fontsize=24)\n",
    "    ax.set_aspect(N_m/1.2)\n",
    "    ax.set_title('$k_z$ = %s' % kz, fontsize=24)\n",
    "    fig.tight_layout()\n",
    "    fig.set_size_inches(10, 10)\n",
    "    fig.savefig('Scan_m_kz=%s.png' % kz)\n",
    "    plt.show()"
   ]
  },
  {
   "cell_type": "code",
   "execution_count": null,
   "id": "rolled-diagram",
   "metadata": {},
   "outputs": [
    {
     "name": "stderr",
     "output_type": "stream",
     "text": [
      " 71%|███████   | 29/41 [02:22<01:02,  5.20s/it]"
     ]
    }
   ],
   "source": [
    "N_m = 40\n",
    "kz = 0.75\n",
    "Scan_m_Save(N_m,kz)"
   ]
  },
  {
   "cell_type": "code",
   "execution_count": null,
   "id": "independent-macintosh",
   "metadata": {},
   "outputs": [],
   "source": []
  }
 ],
 "metadata": {
  "kernelspec": {
   "display_name": "Python 3",
   "language": "python",
   "name": "python3"
  },
  "language_info": {
   "codemirror_mode": {
    "name": "ipython",
    "version": 3
   },
   "file_extension": ".py",
   "mimetype": "text/x-python",
   "name": "python",
   "nbconvert_exporter": "python",
   "pygments_lexer": "ipython3",
   "version": "3.9.9"
  }
 },
 "nbformat": 4,
 "nbformat_minor": 5
}
