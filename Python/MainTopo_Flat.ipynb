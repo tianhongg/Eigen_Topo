{
 "cells": [
  {
   "cell_type": "code",
   "execution_count": 5,
   "id": "spread-england",
   "metadata": {},
   "outputs": [],
   "source": [
    "#########################\n",
    "# 2022-01 by Tianhong\n",
    "# SPP in Flat Geometry \n",
    "\n",
    "import time\n",
    "import math \n",
    "import numpy as np\n",
    "from Matrix import TopoFlat\n",
    "import matplotlib.pyplot as plt\n",
    "from tqdm import tqdm\n",
    "\n",
    "%matplotlib inline\n",
    "pi = math.pi"
   ]
  },
  {
   "cell_type": "code",
   "execution_count": 12,
   "id": "vertical-channel",
   "metadata": {},
   "outputs": [],
   "source": [
    "L0 =  -5.0*2*pi\n",
    "LL =   5.0*2*pi\n",
    "N = 200\n",
    "# \n",
    "x0 = 3*2*pi\n",
    "l  = 1*2*pi\n",
    "Bz = 2.0\n",
    "By = 0.0\n",
    "N = math.ceil(N/2)*2\n",
    "dx = (LL-L0)/N\n",
    "N = N+1\n",
    "#\n",
    "DenProf=1\n",
    "ByEProf=0\n",
    "BC = 0\n",
    "MyTopo = TopoFlat(N,dx,L0,Bz,By,x0,l, DenProf, ByEProf, BC)"
   ]
  },
  {
   "cell_type": "code",
   "execution_count": 13,
   "id": "traditional-friend",
   "metadata": {},
   "outputs": [],
   "source": [
    "def Scan_ky_Save(Nky,kym,kz):\n",
    "    kym = abs(kym)\n",
    "    if kym ==0:\n",
    "        kym = 0.1\n",
    "        \n",
    "    All_Eig = np.array([])\n",
    "    All_ky  = np.array([])\n",
    "    \n",
    "    dky = (kym)*2/Nky\n",
    "    for i in tqdm(range(Nky+1)):\n",
    "        ky = -kym + dky*i\n",
    "        eig = MyTopo.EigTopo(ky,kz)\n",
    "        All_Eig=np.append(All_Eig,eig)\n",
    "        All_ky  =np.append(All_ky,np.ones(eig.shape[0])*ky)\n",
    "        \n",
    "    # make the style\n",
    "    MarkerSize = 56\n",
    "    color = '#2a9d8f'\n",
    "    alp = 0.7\n",
    "\n",
    "    # plot\n",
    "    fig, ax = plt.subplots()\n",
    "    ax.scatter(All_ky, All_Eig,MarkerSize,color,alpha=alp)\n",
    "    ax.set(xlim=(-kym,kym),ylim=(0,1.2), xticks=np.arange(-kym,kym+dky,0.5), yticks=np.arange(0,1.2,0.2))\n",
    "    for label in (ax.get_xticklabels() + ax.get_yticklabels()):\n",
    "        label.set_fontsize(24)\n",
    "    ax.set_xlabel('$k_y$', fontsize=24)\n",
    "    ax.set_ylabel('$\\omega$', fontsize=24)\n",
    "    ax.set_aspect(2*kym/1.2)\n",
    "    ax.set_title('$k_z$ = %s' % kz, fontsize=24)\n",
    "    fig.tight_layout()\n",
    "    fig.set_size_inches(10, 10)\n",
    "    fig.savefig('Scan_Sharp_ky_kz =%5.2f,Bz =%5.2f.png' % (kz,Bz))\n",
    "    plt.show()"
   ]
  },
  {
   "cell_type": "code",
   "execution_count": null,
   "id": "retained-textbook",
   "metadata": {},
   "outputs": [
    {
     "name": "stderr",
     "output_type": "stream",
     "text": [
      " 85%|████████▌ | 35/41 [03:09<00:32,  5.47s/it]"
     ]
    }
   ],
   "source": [
    "Nky = 40\n",
    "kym = 2 #max\n",
    "kz = 0.8\n",
    "Scan_ky_Save(Nky,kym,kz)"
   ]
  },
  {
   "cell_type": "code",
   "execution_count": null,
   "id": "perceived-timing",
   "metadata": {},
   "outputs": [],
   "source": []
  }
 ],
 "metadata": {
  "kernelspec": {
   "display_name": "Python 3",
   "language": "python",
   "name": "python3"
  },
  "language_info": {
   "codemirror_mode": {
    "name": "ipython",
    "version": 3
   },
   "file_extension": ".py",
   "mimetype": "text/x-python",
   "name": "python",
   "nbconvert_exporter": "python",
   "pygments_lexer": "ipython3",
   "version": "3.9.9"
  }
 },
 "nbformat": 4,
 "nbformat_minor": 5
}
